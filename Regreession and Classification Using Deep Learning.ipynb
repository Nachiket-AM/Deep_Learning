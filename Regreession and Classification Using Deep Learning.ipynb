{
 "cells": [
  {
   "cell_type": "markdown",
   "id": "7a9a71a4",
   "metadata": {},
   "source": [
    "# Stochastic Local Search (SLS)"
   ]
  },
  {
   "cell_type": "code",
   "execution_count": 7,
   "id": "c3a119e5",
   "metadata": {},
   "outputs": [
    {
     "name": "stdout",
     "output_type": "stream",
     "text": [
      "Best solution: x=5.00029484511261, f(x)=24.99999991306636\n"
     ]
    }
   ],
   "source": [
    "import random\n",
    "\n",
    "def objective_function(x):\n",
    "    \"\"\"A simple function to maximize: a downward parabola with max at x=5.\"\"\"\n",
    "    return -(x - 5) ** 2 + 25  \n",
    "\n",
    "def stochastic_local_search(iterations=1000, search_space=(0, 10)):\n",
    "    \"\"\"Performs Stochastic Local Search by randomly picking points.\"\"\"\n",
    "    \n",
    "    # Initialize with a random point\n",
    "    best_x = random.uniform(*search_space)\n",
    "    best_value = objective_function(best_x)\n",
    "\n",
    "    for _ in range(iterations):\n",
    "        # Generate a new random candidate solution\n",
    "        candidate_x = random.uniform(*search_space)\n",
    "        candidate_value = objective_function(candidate_x)\n",
    "\n",
    "        # Keep the best one found so far\n",
    "        if candidate_value > best_value:\n",
    "            best_x, best_value = candidate_x, candidate_value\n",
    "\n",
    "    return best_x, best_value\n",
    "\n",
    "# Run the algorithm\n",
    "best_x, best_value = stochastic_local_search()\n",
    "print(f\"Best solution: x={best_x}, f(x)={best_value}\")\n"
   ]
  },
  {
   "cell_type": "markdown",
   "id": "9bd80997",
   "metadata": {},
   "source": [
    "# Randomized Hill Climbing"
   ]
  },
  {
   "cell_type": "code",
   "execution_count": 8,
   "id": "9c05cc92",
   "metadata": {},
   "outputs": [
    {
     "name": "stdout",
     "output_type": "stream",
     "text": [
      "Best solution: x=4.991684849771717, f(x)=24.99993085827668\n"
     ]
    }
   ],
   "source": [
    "def randomized_hill_climbing(iterations=1000, step_size=0.1, search_space=(0, 10)):\n",
    "    \"\"\"Performs Hill Climbing by moving to better neighbors.\"\"\"\n",
    "    \n",
    "    # Start at a random position\n",
    "    x = random.uniform(*search_space)\n",
    "    best_value = objective_function(x)\n",
    "\n",
    "    for _ in range(iterations):\n",
    "        # Take a random step left or right\n",
    "        step = random.choice([-step_size, step_size])\n",
    "        candidate_x = x + step\n",
    "\n",
    "        # Ensure we stay within the search space\n",
    "        if search_space[0] <= candidate_x <= search_space[1]:\n",
    "            candidate_value = objective_function(candidate_x)\n",
    "\n",
    "            # Move if the new position is better\n",
    "            if candidate_value > best_value:\n",
    "                x, best_value = candidate_x, candidate_value\n",
    "\n",
    "    return x, best_value\n",
    "\n",
    "# Run the algorithm\n",
    "best_x, best_value = randomized_hill_climbing()\n",
    "print(f\"Best solution: x={best_x}, f(x)={best_value}\")\n"
   ]
  },
  {
   "cell_type": "markdown",
   "id": "a1bfb206",
   "metadata": {},
   "source": [
    "# Simulated Annealing"
   ]
  },
  {
   "cell_type": "code",
   "execution_count": 9,
   "id": "7251675d",
   "metadata": {},
   "outputs": [
    {
     "name": "stdout",
     "output_type": "stream",
     "text": [
      "Best solution: x=4.999277008597908, f(x)=24.99999947728343\n"
     ]
    }
   ],
   "source": [
    "import math\n",
    "\n",
    "def simulated_annealing(initial_temp=100, cooling_rate=0.99, iterations=1000, search_space=(0, 10)):\n",
    "    \"\"\"Performs Simulated Annealing to explore the search space more flexibly.\"\"\"\n",
    "    \n",
    "    # Start at a random position\n",
    "    x = random.uniform(*search_space)\n",
    "    best_x, best_value = x, objective_function(x)\n",
    "    temp = initial_temp  # Set initial temperature\n",
    "\n",
    "    for _ in range(iterations):\n",
    "        # Take a random step\n",
    "        step = random.uniform(-0.5, 0.5)\n",
    "        candidate_x = x + step\n",
    "\n",
    "        # Ensure we stay within the search space\n",
    "        if search_space[0] <= candidate_x <= search_space[1]:\n",
    "            candidate_value = objective_function(candidate_x)\n",
    "\n",
    "            # Compute change in value\n",
    "            delta = candidate_value - best_value\n",
    "            \n",
    "            # Accept better moves OR worse moves with a small probability\n",
    "            if delta > 0 or random.uniform(0, 1) < math.exp(delta / temp):\n",
    "                x, best_value = candidate_x, candidate_value\n",
    "                if candidate_value > objective_function(best_x):\n",
    "                    best_x = candidate_x\n",
    "\n",
    "        # Gradually cool the system\n",
    "        temp *= cooling_rate  \n",
    "\n",
    "    return best_x, objective_function(best_x)\n",
    "\n",
    "# Run the algorithm\n",
    "best_x, best_value = simulated_annealing()\n",
    "print(f\"Best solution: x={best_x}, f(x)={best_value}\")\n"
   ]
  },
  {
   "cell_type": "markdown",
   "id": "a005f8e1",
   "metadata": {},
   "source": [
    "# TABU Search"
   ]
  },
  {
   "cell_type": "code",
   "execution_count": 10,
   "id": "8e6ddc1c",
   "metadata": {},
   "outputs": [
    {
     "name": "stdout",
     "output_type": "stream",
     "text": [
      "Best solution: x=5.084792976344458, f(x)=24.992810151162647\n"
     ]
    }
   ],
   "source": [
    "from collections import deque\n",
    "\n",
    "def tabu_search(iterations=100, step_size=0.1, tabu_tenure=5, search_space=(0, 10)):\n",
    "    \"\"\"Performs Tabu Search to prevent cycling back to recent states.\"\"\"\n",
    "    \n",
    "    # Start at a random position\n",
    "    x = random.uniform(*search_space)\n",
    "    best_x, best_value = x, objective_function(x)\n",
    "    \n",
    "    # Create a fixed-length tabu list\n",
    "    tabu_list = deque(maxlen=tabu_tenure)\n",
    "\n",
    "    for _ in range(iterations):\n",
    "        # Generate possible moves (left or right step)\n",
    "        candidates = [x + step for step in [-step_size, step_size] if search_space[0] <= x + step <= search_space[1]]\n",
    "        \n",
    "        # Avoid moves in the tabu list\n",
    "        candidates = [c for c in candidates if c not in tabu_list]\n",
    "\n",
    "        # If no valid candidates, skip this iteration\n",
    "        if not candidates:\n",
    "            continue\n",
    "\n",
    "        # Choose the best available move\n",
    "        candidate_x = max(candidates, key=objective_function)\n",
    "        candidate_value = objective_function(candidate_x)\n",
    "\n",
    "        # Update best solution if found\n",
    "        if candidate_value > best_value:\n",
    "            best_x, best_value = candidate_x, candidate_value\n",
    "\n",
    "        # Add to tabu list to prevent immediate reuse\n",
    "        tabu_list.append(candidate_x)\n",
    "\n",
    "    return best_x, best_value\n",
    "\n",
    "# Run the algorithm\n",
    "best_x, best_value = tabu_search()\n",
    "print(f\"Best solution: x={best_x}, f(x)={best_value}\")\n"
   ]
  },
  {
   "cell_type": "markdown",
   "id": "754b6d9b",
   "metadata": {},
   "source": [
    "# Hybrid Approach (GRASP)"
   ]
  },
  {
   "cell_type": "code",
   "execution_count": 11,
   "id": "36f5d4a7",
   "metadata": {},
   "outputs": [
    {
     "name": "stdout",
     "output_type": "stream",
     "text": [
      "Best solution: x=4.997669083523491, f(x)=24.99999456682838\n"
     ]
    }
   ],
   "source": [
    "def greedy_randomized_adaptive_search(iterations=100, step_size=0.1, search_space=(0, 10)):\n",
    "    \"\"\"Performs GRASP, starting with greedy initialization and refining via local search.\"\"\"\n",
    "    \n",
    "    # Start with a random but greedy choice\n",
    "    best_x = random.uniform(*search_space)\n",
    "    best_value = objective_function(best_x)\n",
    "\n",
    "    for _ in range(iterations):\n",
    "        # Generate a new random starting point\n",
    "        x = random.uniform(*search_space)\n",
    "        \n",
    "        # Apply a local search from this point\n",
    "        for _ in range(10):  # Small number of local moves\n",
    "            step = random.choice([-step_size, step_size])\n",
    "            candidate_x = x + step\n",
    "\n",
    "            # Ensure we stay within the search space\n",
    "            if search_space[0] <= candidate_x <= search_space[1]:\n",
    "                candidate_value = objective_function(candidate_x)\n",
    "\n",
    "                # Keep the best solution found\n",
    "                if candidate_value > best_value:\n",
    "                    best_x, best_value = candidate_x, candidate_value\n",
    "\n",
    "    return best_x, best_value\n",
    "\n",
    "# Run the algorithm\n",
    "best_x, best_value = greedy_randomized_adaptive_search()\n",
    "print(f\"Best solution: x={best_x}, f(x)={best_value}\")\n"
   ]
  },
  {
   "cell_type": "code",
   "execution_count": null,
   "id": "787b726f",
   "metadata": {},
   "outputs": [],
   "source": []
  }
 ],
 "metadata": {
  "kernelspec": {
   "display_name": "Python 3 (ipykernel)",
   "language": "python",
   "name": "python3"
  },
  "language_info": {
   "codemirror_mode": {
    "name": "ipython",
    "version": 3
   },
   "file_extension": ".py",
   "mimetype": "text/x-python",
   "name": "python",
   "nbconvert_exporter": "python",
   "pygments_lexer": "ipython3",
   "version": "3.7.4"
  }
 },
 "nbformat": 4,
 "nbformat_minor": 5
}
